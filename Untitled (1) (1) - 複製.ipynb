{
 "cells": [
  {
   "cell_type": "code",
   "execution_count": null,
   "id": "803ada58-36f9-456c-9476-8f75494adcb5",
   "metadata": {
    "tags": []
   },
   "outputs": [],
   "source": [
    "import pandas as pd\n",
    "import pandas as pd\n",
    "import numpy as np\n",
    "import matplotlib.pyplot as plt\n",
    "import seaborn as sns\n",
    "from scipy import stats\n",
    "from sklearn.model_selection import train_test_split, StratifiedKFold, cross_val_score\n",
    "from sklearn.ensemble import RandomForestClassifier\n",
    "from sklearn.metrics import classification_report, confusion_matrix, roc_auc_score\n",
    "from sklearn.preprocessing import StandardScaler\n",
    "from sklearn.pipeline import Pipeline\n",
    "import numpy as np\n",
    "import matplotlib.pyplot as plt\n"
   ]
  },
  {
   "cell_type": "code",
   "execution_count": null,
   "id": "710f8feb-0f9e-4f80-800c-67b853f50096",
   "metadata": {
    "tags": []
   },
   "outputs": [],
   "source": [
    "df = pd.read_csv(\"AD_all_pchem_for_all_IR_receptor_CDR3s_Blanck_July_2022.csv\")"
   ]
  },
  {
   "cell_type": "code",
   "execution_count": null,
   "id": "9c05e49a-5f1c-4b92-99ae-52fd3f778fa1",
   "metadata": {
    "tags": []
   },
   "outputs": [],
   "source": [
    "df.head()"
   ]
  },
  {
   "cell_type": "code",
   "execution_count": null,
   "id": "1ff33cf4-0321-4e9c-911d-5165d1bc53e2",
   "metadata": {
    "tags": []
   },
   "outputs": [],
   "source": [
    "print(df.dtypes)\n",
    "print(df.describe())\n",
    "receptor_counts = df['Receptor'].value_counts()\n",
    "print(\"\\n受體類型分布:\")\n",
    "print(receptor_counts)\n",
    "\n",
    "body_site_counts = df['BODY_SITE'].value_counts(dropna=False)\n",
    "print(\"\\n組織來源分布:\")\n",
    "print(body_site_counts)"
   ]
  },
  {
   "cell_type": "code",
   "execution_count": null,
   "id": "a16a6f5a-c001-49fa-8e42-b3964d80f526",
   "metadata": {
    "tags": []
   },
   "outputs": [],
   "source": [
    "df.info()"
   ]
  },
  {
   "cell_type": "code",
   "execution_count": null,
   "id": "4728204f-c56e-4e6a-94b9-79ad59937a3a",
   "metadata": {
    "tags": []
   },
   "outputs": [],
   "source": [
    "print(df.isnull().sum())\n",
    "df_clean = df.dropna(subset=['SUBJID', 'BODY_SITE'])"
   ]
  },
  {
   "cell_type": "code",
   "execution_count": null,
   "id": "edfeef94-b253-49dc-aad2-86abbbf7e509",
   "metadata": {
    "tags": []
   },
   "outputs": [],
   "source": [
    "missing_after = df_clean[['SUBJID', 'BODY_SITE']].isnull().sum()\n",
    "print(missing_after)"
   ]
  },
  {
   "cell_type": "code",
   "execution_count": null,
   "id": "6a854c5e-d40f-4960-ab96-e2fad26ad15d",
   "metadata": {
    "tags": []
   },
   "outputs": [],
   "source": [
    "df_final = df_clean.drop_duplicates(subset=['SUBJID', 'CDR3 sequence'])"
   ]
  },
  {
   "cell_type": "code",
   "execution_count": null,
   "id": "0bf8c558-1791-479d-ab0b-25b7af44aed0",
   "metadata": {
    "tags": []
   },
   "outputs": [],
   "source": [
    "df_final"
   ]
  },
  {
   "cell_type": "code",
   "execution_count": null,
   "id": "82829f4f-73ff-4047-8da3-1306956ae608",
   "metadata": {
    "tags": []
   },
   "outputs": [],
   "source": [
    "plt.style.use('seaborn-whitegrid')\n",
    "sns.set_palette(\"deep\")\n",
    "plt.rcParams['figure.figsize'] = [10, 6]\n",
    "plt.rcParams['figure.dpi'] = 100\n",
    "\n",
    "length_stats = df_final['length'].describe()\n",
    "print(\"CDR3序列長度統計:\")\n",
    "print(length_stats)\n"
   ]
  },
  {
   "cell_type": "code",
   "execution_count": null,
   "id": "3ab2a482-7bbf-4c45-a409-f9de4c972fec",
   "metadata": {
    "tags": []
   },
   "outputs": [],
   "source": [
    "length_mode = stats.mode(df_final['length']).mode\n",
    "length_skew = stats.skew(df_final['length'])\n",
    "length_kurtosis = stats.kurtosis(df['length'])\n",
    "\n",
    "plt.figure(figsize=(20, 10))\n",
    "plt.subplot(1, 2, 1)\n",
    "sns.histplot(df['length'], kde=True, bins=30)\n",
    "plt.axvline(df['length'].mean(), color='red', linestyle='--', label=f'Mean: {df[\"length\"].mean():.2f}')\n",
    "plt.axvline(df['length'].median(), color='green', linestyle='--', label=f'Median: {df[\"length\"].median():.2f}')\n",
    "plt.title('CDR3 Sequence Length Distribution')\n",
    "plt.xlabel('Length (amino acid count)')\n",
    "plt.ylabel('Density')\n",
    "plt.legend()\n"
   ]
  },
  {
   "cell_type": "code",
   "execution_count": null,
   "id": "f1d22585-8314-48d0-9e5a-e0d96406201e",
   "metadata": {
    "tags": []
   },
   "outputs": [],
   "source": [
    "plt.subplot(1, 2, 2)\n",
    "plt.boxplot(df['length'])\n",
    "plt.title('CDR3 Sequence Length Box Plot')\n",
    "plt.ylabel('Length (amino acid count)')\n",
    "\n",
    "plt.tight_layout()\n",
    "plt.savefig('cdr3_length_distribution.png', dpi=300)\n",
    "plt.show()"
   ]
  },
  {
   "cell_type": "code",
   "execution_count": null,
   "id": "52f91006-0fb4-414d-aeb0-32db2fea6d13",
   "metadata": {
    "tags": []
   },
   "outputs": [],
   "source": [
    "length_ranges = {\n",
    "    'Short sequences (≤10)': df_final[df_final['length'] <= 10].shape[0],\n",
    "    'Medium sequences (11-15)': df_final[(df_final['length'] > 10) & (df_final['length'] <= 15)].shape[0],\n",
    "    'Long sequences (16-20)': df_final[(df_final['length'] > 15) & (df_final['length'] <= 20)].shape[0],\n",
    "    'Very long sequences (>20)': df_final[df_final['length'] > 20].shape[0]\n",
    "}\n",
    "\n",
    "length_percentages = {k: v/df.shape[0]*100 for k, v in length_ranges.items()}\n",
    "\n",
    "print(\"\\nCDR3 Sequence Length Category Statistics:\")\n",
    "for category, count in length_ranges.items():\n",
    "    print(f\"{category}: {count} sequences ({length_percentages[category]:.2f}%)\")\n"
   ]
  },
  {
   "cell_type": "code",
   "execution_count": null,
   "id": "194ee165-8f1b-44e8-a06b-81e237839907",
   "metadata": {
    "tags": []
   },
   "outputs": [],
   "source": [
    "physchem_cols = [\n",
    "    'gravy',  \n",
    "    'mean_hydropathy',  \n",
    "    'uversky_hydropathy',  \n",
    "    'fraction_positive',  \n",
    "    'fraction_negative',  \n",
    "    'ncpr', \n",
    "    'isoelectric_point',  \n",
    "    'aromaticity',  \n",
    "    'instability_index', \n",
    "    'secondary_structure_helix',  \n",
    "    'secondary_structure_turn',  \n",
    "    'secondary_structure_sheet'  \n",
    "]\n",
    "\n",
    "\n",
    "physchem_stats = df_final[physchem_cols].describe().T\n",
    "print(\"\\nPhysicochemical Properties Statistics:\")\n",
    "print(physchem_stats)"
   ]
  },
  {
   "cell_type": "code",
   "execution_count": null,
   "id": "38d266b2-3790-4f07-9447-05a4ed3bdf99",
   "metadata": {
    "tags": []
   },
   "outputs": [],
   "source": [
    "gravy_ranges = {\n",
    "    'Below optimal range (<-0.5)': df_final[df_final['gravy'] < -0.5].shape[0],\n",
    "    'Optimal range (-0.5 to 0.5)': df_final[(df_final['gravy'] >= -0.5) & (df_final['gravy'] <= 0.5)].shape[0],\n",
    "    'Above optimal range (>0.5)': df_final[df_final['gravy'] > 0.5].shape[0]\n",
    "}\n",
    "\n",
    "gravy_percentages = {k: v/df_final.shape[0]*100 for k, v in gravy_ranges.items()}\n",
    "\n",
    "print(\"\\nGRAVY Value Distribution (based on hypothesized optimal range):\")\n",
    "for category, count in gravy_ranges.items():\n",
    "    print(f\"{category}: {count} sequences ({gravy_percentages[category]:.2f}%)\")"
   ]
  },
  {
   "cell_type": "code",
   "execution_count": null,
   "id": "4ffd0fe5-6896-4f30-a66d-fc14bf85e456",
   "metadata": {
    "tags": []
   },
   "outputs": [],
   "source": [
    "receptor_counts = df_final['Receptor'].value_counts()\n",
    "receptor_percentages = receptor_counts / receptor_counts.sum() * 100\n",
    "\n",
    "print(\"\\nReceptor Type Distribution:\")\n",
    "for receptor, count in receptor_counts.items():\n",
    "    print(f\"{receptor}: {count} sequences ({receptor_percentages[receptor]:.2f}%)\")"
   ]
  },
  {
   "cell_type": "code",
   "execution_count": null,
   "id": "06d4037c-ac1b-4569-8ad7-1264b05412d5",
   "metadata": {
    "tags": []
   },
   "outputs": [],
   "source": [
    "plt.figure(figsize=(10, 6))\n",
    "plt.bar(receptor_counts.index, receptor_counts.values)\n",
    "plt.title('CDR3 Sequences by Receptor Type')\n",
    "plt.xlabel('Receptor Type')\n",
    "plt.ylabel('Count')\n",
    "plt.xticks(rotation=45)\n",
    "plt.tight_layout()\n",
    "plt.savefig('cdr3_receptor_distribution.png', dpi=300)\n",
    "plt.show()"
   ]
  },
  {
   "cell_type": "code",
   "execution_count": null,
   "id": "913815b6-279b-47a9-90ef-a58ef4e43916",
   "metadata": {
    "tags": []
   },
   "outputs": [],
   "source": [
    "body_site_counts = df_final['BODY_SITE'].value_counts()\n",
    "body_site_percentages = body_site_counts / body_site_counts.sum() * 100\n",
    "\n",
    "print(\"\\nBody Site Distribution:\")\n",
    "for site, count in body_site_counts.items():\n",
    "    print(f\"{site}: {count} sequences ({body_site_percentages[site]:.2f}%)\")\n",
    "\n",
    "\n",
    "plt.figure(figsize=(10, 6))\n",
    "plt.bar(body_site_counts.index, body_site_counts.values)\n",
    "plt.title('CDR3 Sequences by Body Site')\n",
    "plt.xlabel('Body Site')\n",
    "plt.ylabel('Count')\n",
    "plt.xticks(rotation=45)\n",
    "plt.tight_layout()\n",
    "plt.savefig('cdr3_body_site_distribution.png', dpi=300)\n",
    "plt.show()"
   ]
  },
  {
   "cell_type": "code",
   "execution_count": null,
   "id": "49568cfc-cfc5-4b85-9c3f-1a953ea57b3e",
   "metadata": {
    "tags": []
   },
   "outputs": [],
   "source": [
    "def divide_cdr3_sequence(sequence):\n",
    "    \"\"\"\n",
    "    Divides a CDR3 sequence into N-terminal, middle, and C-terminal regions.\n",
    "    \n",
    "    Parameters:\n",
    "    sequence (str): The CDR3 amino acid sequence\n",
    "    \n",
    "    Returns:\n",
    "    dict: A dictionary containing the regions and validity flag\n",
    "    \"\"\"\n",
    "    if not isinstance(sequence, str) or len(sequence) == 0:\n",
    "        return {\n",
    "            'n_term': '',\n",
    "            'middle': '',\n",
    "            'c_term': '',\n",
    "            'is_valid': False\n",
    "        }\n",
    "\n",
    "    actual_seq = sequence\n",
    "    if sequence.startswith('C'):\n",
    "        actual_seq = sequence[1:]\n",
    "    \n",
    "\n",
    "    if len(actual_seq) < 3:\n",
    "        return {\n",
    "            'n_term': actual_seq,\n",
    "            'middle': '',\n",
    "            'c_term': '',\n",
    "            'is_valid': False\n",
    "        }\n",
    "    n_term_length = len(actual_seq) // 3\n",
    "    c_term_length = len(actual_seq) // 3\n",
    "    middle_length = len(actual_seq) - n_term_length - c_term_length\n",
    "    \n",
    "    n_term = actual_seq[:n_term_length]\n",
    "    middle = actual_seq[n_term_length:n_term_length + middle_length]\n",
    "    c_term = actual_seq[n_term_length + middle_length:]\n",
    "    \n",
    "    return {\n",
    "        'n_term': n_term,\n",
    "        'middle': middle,\n",
    "        'c_term': c_term,\n",
    "        'is_valid': True\n",
    "    }\n"
   ]
  },
  {
   "cell_type": "code",
   "execution_count": null,
   "id": "ff4c706f-33c4-413d-a3e2-fc0dd8ee7761",
   "metadata": {
    "tags": []
   },
   "outputs": [],
   "source": [
    "def divide_cdr3_sequence_alternative(sequence, min_valid_length=6):\n",
    "    \"\"\"\n",
    "    Alternative division method for CDR3 sequences, with more specific handling\n",
    "    for different sequence lengths.\n",
    "    \n",
    "    Parameters:\n",
    "    sequence (str): The CDR3 amino acid sequence\n",
    "    min_valid_length (int): Minimum length for a sequence to be considered valid for division\n",
    "    \n",
    "    Returns:\n",
    "    dict: A dictionary containing the regions and validity flag\n",
    "    \"\"\"\n",
    "\n",
    "    if not isinstance(sequence, str) or len(sequence) == 0:\n",
    "        return {\n",
    "            'n_term': '',\n",
    "            'middle': '',\n",
    "            'c_term': '',\n",
    "            'is_valid': False\n",
    "        }\n",
    "\n",
    "    actual_seq = sequence\n",
    "    if sequence.startswith('C'):\n",
    "        actual_seq = sequence[1:]\n",
    "    \n",
    "    if len(actual_seq) < min_valid_length:\n",
    "        if len(actual_seq) >= 3:\n",
    "            n_term = actual_seq[0]\n",
    "            c_term = actual_seq[-1]\n",
    "            middle = actual_seq[1:-1]\n",
    "            return {\n",
    "                'n_term': n_term,\n",
    "                'middle': middle,\n",
    "                'c_term': c_term,\n",
    "                'is_valid': True  \n",
    "            }\n",
    "        else:\n",
    "            return {\n",
    "                'n_term': actual_seq,\n",
    "                'middle': '',\n",
    "                'c_term': '',\n",
    "                'is_valid': False\n",
    "            }\n",
    "    \n",
    "    if len(actual_seq) <= 9:\n",
    "        n_term = actual_seq[:2]\n",
    "        c_term = actual_seq[-2:]\n",
    "        middle = actual_seq[2:-2]\n",
    "    else:\n",
    "\n",
    "        n_term_length = int(len(actual_seq) * 0.3)\n",
    "        c_term_length = int(len(actual_seq) * 0.3)\n",
    "        middle_length = len(actual_seq) - n_term_length - c_term_length\n",
    "        \n",
    "        n_term = actual_seq[:n_term_length]\n",
    "        c_term = actual_seq[-c_term_length:]\n",
    "        middle = actual_seq[n_term_length:n_term_length + middle_length]\n",
    "    \n",
    "    return {\n",
    "        'n_term': n_term,\n",
    "        'middle': middle,\n",
    "        'c_term': c_term,\n",
    "        'is_valid': True\n",
    "    }\n"
   ]
  },
  {
   "cell_type": "code",
   "execution_count": null,
   "id": "43bf0e25-8752-4f3e-8d6f-81ee309ce0ec",
   "metadata": {
    "tags": []
   },
   "outputs": [],
   "source": [
    "def apply_division_to_dataframe(df, division_function=divide_cdr3_sequence):\n",
    "    \"\"\"\n",
    "    Applies the CDR3 sequence division function to all sequences in a dataframe.\n",
    "    \n",
    "    Parameters:\n",
    "    df (pandas.DataFrame): DataFrame containing CDR3 sequences\n",
    "    division_function (function): Function to use for dividing sequences\n",
    "    \n",
    "    Returns:\n",
    "    pandas.DataFrame: DataFrame with added columns for the regions\n",
    "    \"\"\"\n",
    "    df_with_regions = df.copy()  \n",
    "    regions_data = df['CDR3 sequence'].apply(division_function)\n",
    "\n",
    "    df_with_regions['n_term'] = regions_data.apply(lambda x: x['n_term'])\n",
    "    df_with_regions['middle'] = regions_data.apply(lambda x: x['middle'])\n",
    "    df_with_regions['c_term'] = regions_data.apply(lambda x: x['c_term'])\n",
    "    df_with_regions['region_division_valid'] = regions_data.apply(lambda x: x['is_valid'])\n",
    "    \n",
    "    return df_with_regions"
   ]
  },
  {
   "cell_type": "code",
   "execution_count": null,
   "id": "aa2c0316-29f9-4892-881f-732693859ba4",
   "metadata": {
    "tags": []
   },
   "outputs": [],
   "source": [
    "kd_hydrophobicity = {\n",
    "    'A': 1.8,  # Alanine\n",
    "    'C': 2.5,  # Cysteine\n",
    "    'D': -3.5, # Aspartic Acid\n",
    "    'E': -3.5, # Glutamic Acid\n",
    "    'F': 2.8,  # Phenylalanine\n",
    "    'G': -0.4, # Glycine\n",
    "    'H': -3.2, # Histidine\n",
    "    'I': 4.5,  # Isoleucine\n",
    "    'K': -3.9, # Lysine\n",
    "    'L': 3.8,  # Leucine\n",
    "    'M': 1.9,  # Methionine\n",
    "    'N': -3.5, # Asparagine\n",
    "    'P': -1.6, # Proline\n",
    "    'Q': -3.5, # Glutamine\n",
    "    'R': -4.5, # Arginine\n",
    "    'S': -0.8, # Serine\n",
    "    'T': -0.7, # Threonine\n",
    "    'V': 4.2,  # Valine\n",
    "    'W': -0.9, # Tryptophan\n",
    "    'Y': -1.3  # Tyrosine\n",
    "}\n",
    "\n",
    "hydrophobic_aa = {'A', 'C', 'F', 'I', 'L', 'M', 'V', 'W', 'Y'}"
   ]
  },
  {
   "cell_type": "code",
   "execution_count": null,
   "id": "21694c8d-6f95-4211-a072-84102264c576",
   "metadata": {
    "tags": []
   },
   "outputs": [],
   "source": [
    "def calculate_hydrophobicity(sequence):\n",
    "    \"\"\"\n",
    "    Calculate the average hydrophobicity of an amino acid sequence using the Kyte-Doolittle scale.\n",
    "    \n",
    "    Parameters:\n",
    "    sequence (str): Amino acid sequence\n",
    "    \n",
    "    Returns:\n",
    "    float: Average hydrophobicity value\n",
    "    \"\"\"\n",
    "    if not sequence:\n",
    "        return 0.0\n",
    "    \n",
    "    total_hydrophobicity = 0.0\n",
    "    valid_aa_count = 0\n",
    "    \n",
    "    for aa in sequence.upper():\n",
    "        if aa in kd_hydrophobicity:\n",
    "            total_hydrophobicity += kd_hydrophobicity[aa]\n",
    "            valid_aa_count += 1\n",
    "\n",
    "    return total_hydrophobicity / valid_aa_count if valid_aa_count > 0 else 0.0\n"
   ]
  },
  {
   "cell_type": "code",
   "execution_count": null,
   "id": "36cf2b55-6e0b-4558-9174-191d32de38fa",
   "metadata": {
    "tags": []
   },
   "outputs": [],
   "source": [
    "def classify_hydrophobicity(hydrophobicity_value, threshold=0.0):\n",
    "    \"\"\"\n",
    "    Classify a region as hydrophobic (H) or hydrophilic (L) based on its hydrophobicity value.\n",
    "    \n",
    "    Parameters:\n",
    "    hydrophobicity_value (float): Average hydrophobicity value\n",
    "    threshold (float): Threshold value to distinguish between hydrophobic and hydrophilic regions\n",
    "    \n",
    "    Returns:\n",
    "    str: 'H' for hydrophobic, 'L' for hydrophilic\n",
    "    \"\"\"\n",
    "    return 'H' if hydrophobicity_value > threshold else 'L'"
   ]
  },
  {
   "cell_type": "code",
   "execution_count": null,
   "id": "6e75a1ff-ac54-484a-82d8-703556e79899",
   "metadata": {
    "tags": []
   },
   "outputs": [],
   "source": [
    "def determine_hydrophobicity_pattern(n_term_hydro, middle_hydro, c_term_hydro, threshold=0.0):\n",
    "    \"\"\"\n",
    "    Determine the hydrophobicity pattern (e.g., HLH, LHL) of a sequence.\n",
    "    \n",
    "    Parameters:\n",
    "    n_term_hydro (float): N-terminal region hydrophobicity\n",
    "    middle_hydro (float): Middle region hydrophobicity\n",
    "    c_term_hydro (float): C-terminal region hydrophobicity\n",
    "    threshold (float): Threshold to distinguish between hydrophobic and hydrophilic regions\n",
    "    \n",
    "    Returns:\n",
    "    str: Three-letter code representing the hydrophobicity pattern\n",
    "    \"\"\"\n",
    "    n_term_class = classify_hydrophobicity(n_term_hydro, threshold)\n",
    "    middle_class = classify_hydrophobicity(middle_hydro, threshold)\n",
    "    c_term_class = classify_hydrophobicity(c_term_hydro, threshold)\n",
    "    \n",
    "    return n_term_class + middle_class + c_term_class"
   ]
  },
  {
   "cell_type": "code",
   "execution_count": null,
   "id": "a609a0ee-8f8c-41ac-ba43-76a8abb8fc65",
   "metadata": {
    "tags": []
   },
   "outputs": [],
   "source": [
    "def has_hydrophobic_c_terminal(sequence, min_consecutive=2):\n",
    "    \"\"\"\n",
    "    Check if the C-terminal of a sequence has consecutive hydrophobic amino acids.\n",
    "    \n",
    "    Parameters:\n",
    "    sequence (str): Amino acid sequence\n",
    "    min_consecutive (int): Minimum number of consecutive hydrophobic amino acids required\n",
    "    \n",
    "    Returns:\n",
    "    bool: True if the C-terminal has the required number of consecutive hydrophobic amino acids\n",
    "    \"\"\"\n",
    "    if not sequence or len(sequence) < min_consecutive:\n",
    "        return False\n",
    "    \n",
    "    # Consider the last min_consecutive+2 amino acids to look for patterns\n",
    "    c_terminal = sequence[-min_consecutive-2:] if len(sequence) > min_consecutive+2 else sequence\n",
    "    \n",
    "    # Look for consecutive hydrophobic amino acids\n",
    "    consecutive_count = 0\n",
    "    for aa in c_terminal:\n",
    "        if aa in hydrophobic_aa:\n",
    "            consecutive_count += 1\n",
    "            if consecutive_count >= min_consecutive:\n",
    "                return True\n",
    "        else:\n",
    "            consecutive_count = 0\n",
    "    \n",
    "    return False"
   ]
  },
  {
   "cell_type": "code",
   "execution_count": null,
   "id": "fbad0162-c02f-4181-a70a-302bfd9d7c82",
   "metadata": {
    "tags": []
   },
   "outputs": [],
   "source": [
    "def has_specific_c_terminal_motif(sequence, motif=\"LIF\"):\n",
    "    \"\"\"\n",
    "    Check if the C-terminal of a sequence contains amino acids from a specific motif.\n",
    "    \n",
    "    Parameters:\n",
    "    sequence (str): Amino acid sequence\n",
    "    motif (str): Motif to look for, default is \"LIF\" (Leucine, Isoleucine, Phenylalanine)\n",
    "    \n",
    "    Returns:\n",
    "    bool: True if any of the last 3 amino acids are in the motif\n",
    "    \"\"\"\n",
    "    if not sequence or len(sequence) < 1:\n",
    "        return False\n",
    "    \n",
    "    # Check the last 3 amino acids\n",
    "    c_terminal = sequence[-3:] if len(sequence) >= 3 else sequence\n",
    "    \n",
    "    # Check if any of the C-terminal amino acids are in the motif\n",
    "    return any(aa in motif for aa in c_terminal)"
   ]
  },
  {
   "cell_type": "code",
   "execution_count": null,
   "id": "b2d67b00-9c75-4047-bcb8-12db4555eb2f",
   "metadata": {
    "tags": []
   },
   "outputs": [],
   "source": [
    "def calculate_regional_hydrophobicity(df_with_regions):\n",
    "    \"\"\"\n",
    "    Calculate hydrophobicity values for each region of the CDR3 sequences.\n",
    "    \n",
    "    Parameters:\n",
    "    df_with_regions (pandas.DataFrame): DataFrame containing CDR3 sequences with regions\n",
    "    \n",
    "    Returns:\n",
    "    pandas.DataFrame: DataFrame with added columns for regional hydrophobicity values and patterns\n",
    "    \"\"\"\n",
    "    # Create a copy to avoid modifying the original\n",
    "    df_result = df_with_regions.copy()\n",
    "    \n",
    "    # Calculate hydrophobicity for each region\n",
    "    df_result['n_term_hydrophobicity'] = df_result['n_term'].apply(calculate_hydrophobicity)\n",
    "    df_result['middle_hydrophobicity'] = df_result['middle'].apply(calculate_hydrophobicity)\n",
    "    df_result['c_term_hydrophobicity'] = df_result['c_term'].apply(calculate_hydrophobicity)\n",
    "    \n",
    "    # Determine hydrophobicity pattern\n",
    "    df_result['hydrophobicity_pattern'] = df_result.apply(\n",
    "        lambda row: determine_hydrophobicity_pattern(\n",
    "            row['n_term_hydrophobicity'],\n",
    "            row['middle_hydrophobicity'],\n",
    "            row['c_term_hydrophobicity']\n",
    "        ) if row['region_division_valid'] else 'NA',\n",
    "        axis=1\n",
    "    )\n",
    "    \n",
    "    # Check for hydrophobic C-terminal\n",
    "    df_result['has_hydrophobic_c_term'] = df_result['c_term'].apply(has_hydrophobic_c_terminal)\n",
    "    \n",
    "    # Check for specific C-terminal motifs (LIF)\n",
    "    df_result['has_lif_motif'] = df_result['c_term'].apply(\n",
    "        lambda x: has_specific_c_terminal_motif(x, \"LIF\")\n",
    "    )\n",
    "    \n",
    "    return df_result\n"
   ]
  },
  {
   "cell_type": "code",
   "execution_count": null,
   "id": "3cd0ddaa-29bd-4afc-9b99-a1a5325d8d14",
   "metadata": {
    "tags": []
   },
   "outputs": [],
   "source": [
    "def visualize_hydrophobicity_patterns(df_with_hydro):\n",
    "    \"\"\"\n",
    "    Create visualizations for hydrophobicity patterns.\n",
    "    \n",
    "    Parameters:\n",
    "    df_with_hydro (pandas.DataFrame): DataFrame with hydrophobicity patterns\n",
    "    \"\"\"\n",
    "    # Count the occurrences of each pattern\n",
    "    pattern_counts = df_with_hydro['hydrophobicity_pattern'].value_counts()\n",
    "    \n",
    "    # Create a bar plot\n",
    "    plt.figure(figsize=(10, 6))\n",
    "    plt.bar(pattern_counts.index, pattern_counts.values)\n",
    "    plt.title('Distribution of Hydrophobicity Patterns')\n",
    "    plt.xlabel('Pattern')\n",
    "    plt.ylabel('Count')\n",
    "    plt.xticks(rotation=0)\n",
    "    plt.tight_layout()\n",
    "    plt.savefig('hydrophobicity_pattern_distribution.png', dpi=300)\n",
    "    plt.show()\n",
    "    \n",
    "    # Calculate the proportion of each pattern\n",
    "    pattern_percentages = pattern_counts / pattern_counts.sum() * 100\n",
    "    \n",
    "    # Print the results\n",
    "    print(\"Hydrophobicity Pattern Distribution:\")\n",
    "    for pattern, count in pattern_counts.items():\n",
    "        print(f\"{pattern}: {count} sequences ({pattern_percentages[pattern]:.2f}%)\")\n",
    "    \n",
    "    # Special focus on HLH pattern (relevant to the research hypothesis)\n",
    "    hlh_count = pattern_counts.get('HLH', 0)\n",
    "    hlh_percentage = hlh_count / pattern_counts.sum() * 100 if pattern_counts.sum() > 0 else 0\n",
    "    \n",
    "    print(f\"\\nHLH pattern (Hypothesis focus): {hlh_count} sequences ({hlh_percentage:.2f}%)\")\n",
    "    \n",
    "    # Analyze sequences with HLH pattern and hydrophobic C-terminal\n",
    "    hlh_hydro_c_term = df_with_hydro[\n",
    "        (df_with_hydro['hydrophobicity_pattern'] == 'HLH') & \n",
    "        (df_with_hydro['has_hydrophobic_c_term'] == True)\n",
    "    ]\n",
    "    \n",
    "    hlh_hydro_c_term_count = len(hlh_hydro_c_term)\n",
    "    hlh_hydro_c_term_percentage = hlh_hydro_c_term_count / len(df_with_hydro) * 100\n",
    "    \n",
    "    print(f\"HLH pattern with hydrophobic C-terminal: {hlh_hydro_c_term_count} sequences ({hlh_hydro_c_term_percentage:.2f}%)\")"
   ]
  },
  {
   "cell_type": "code",
   "execution_count": null,
   "id": "a2d2d21c-fbee-444d-b1d2-28d65fa2a2f2",
   "metadata": {
    "tags": []
   },
   "outputs": [],
   "source": [
    "def analyze_hydrophobicity_patterns_for_bbb_penetration(df_with_hydro):\n",
    "    \"\"\"\n",
    "    Analyze hydrophobicity patterns specifically for BBB penetration potential.\n",
    "    \n",
    "    Parameters:\n",
    "    df_with_hydro (pandas.DataFrame): DataFrame with hydrophobicity patterns\n",
    "    \"\"\"\n",
    "    print(\"\\n=== BBB Penetration Potential Analysis ===\")\n",
    "    \n",
    "    # 1. Analyze HLH pattern distribution\n",
    "    hlh_sequences = df_with_hydro[df_with_hydro['hydrophobicity_pattern'] == 'HLH']\n",
    "    print(f\"Total HLH pattern sequences: {len(hlh_sequences)} ({len(hlh_sequences)/len(df_with_hydro)*100:.2f}%)\")\n",
    "    \n",
    "    # 2. Analyze HLH pattern with hydrophobic C-terminal\n",
    "    hlh_hydro_c = hlh_sequences[hlh_sequences['has_hydrophobic_c_term'] == True]\n",
    "    print(f\"HLH pattern with hydrophobic C-terminal: {len(hlh_hydro_c)} ({len(hlh_hydro_c)/len(df_with_hydro)*100:.2f}%)\")\n",
    "    \n",
    "    # 3. Analyze sequences with optimal GRAVY values (-0.5 to 0.5)\n",
    "    optimal_gravy = df_with_hydro[(df_with_hydro['gravy'] >= -0.5) & (df_with_hydro['gravy'] <= 0.5)]\n",
    "    print(f\"Sequences with optimal GRAVY (-0.5 to 0.5): {len(optimal_gravy)} ({len(optimal_gravy)/len(df_with_hydro)*100:.2f}%)\")\n",
    "    \n",
    "    # 4. Analyze combination of HLH pattern and optimal GRAVY\n",
    "    hlh_optimal_gravy = hlh_sequences[(hlh_sequences['gravy'] >= -0.5) & (hlh_sequences['gravy'] <= 0.5)]\n",
    "    print(f\"HLH pattern with optimal GRAVY: {len(hlh_optimal_gravy)} ({len(hlh_optimal_gravy)/len(hlh_sequences)*100:.2f}% of HLH)\")\n",
    "    \n",
    "    # 5. Analyze by body site (especially Brain vs Blood)\n",
    "    if 'BODY_SITE' in df_with_hydro.columns:\n",
    "        # Create cross-tabulation of body site and hydrophobicity pattern\n",
    "        body_site_pattern = pd.crosstab(df_with_hydro['BODY_SITE'], df_with_hydro['hydrophobicity_pattern'])\n",
    "        body_site_percentages = body_site_pattern.div(body_site_pattern.sum(axis=1), axis=0) * 100\n",
    "        \n",
    "        print(\"\\nHLH Pattern by Body Site:\")\n",
    "        if 'HLH' in body_site_pattern.columns:\n",
    "            # Sort sites by HLH percentage\n",
    "            sites_by_hlh = body_site_percentages['HLH'].sort_values(ascending=False)\n",
    "            for site, percentage in sites_by_hlh.items():\n",
    "                print(f\"{site}: {percentage:.2f}%\")\n",
    "        \n",
    "        # Special focus on Brain vs Blood - using safer access methods\n",
    "        brain_hlh = 0\n",
    "        brain_total = 0\n",
    "        if 'Brain' in body_site_pattern.index:\n",
    "            brain_hlh = body_site_pattern.loc['Brain', 'HLH'] if 'HLH' in body_site_pattern.columns else 0\n",
    "            brain_total = body_site_pattern.loc['Brain'].sum()\n",
    "        \n",
    "        blood_hlh = 0\n",
    "        blood_total = 0\n",
    "        if 'Blood' in body_site_pattern.index:\n",
    "            blood_hlh = body_site_pattern.loc['Blood', 'HLH'] if 'HLH' in body_site_pattern.columns else 0\n",
    "            blood_total = body_site_pattern.loc['Blood'].sum()\n",
    "        \n",
    "        if brain_total > 0 and blood_total > 0:\n",
    "            brain_hlh_pct = brain_hlh / brain_total * 100\n",
    "            blood_hlh_pct = blood_hlh / blood_total * 100\n",
    "            print(f\"\\nBrain samples with HLH pattern: {brain_hlh}/{brain_total} ({brain_hlh_pct:.2f}%)\")\n",
    "            print(f\"Blood samples with HLH pattern: {blood_hlh}/{blood_total} ({blood_hlh_pct:.2f}%)\")\n",
    "    \n",
    "    # 6. Sample high-potential sequences based on criteria\n",
    "    high_potential = df_with_hydro[\n",
    "        (df_with_hydro['hydrophobicity_pattern'] == 'HLH') & \n",
    "        (df_with_hydro['has_hydrophobic_c_term'] == True) &\n",
    "        (df_with_hydro['gravy'] >= -0.5) & \n",
    "        (df_with_hydro['gravy'] <= 0.5)\n",
    "    ]\n",
    "    \n",
    "    print(f\"\\nHigh BBB penetration potential sequences (HLH + hydrophobic C-term + optimal GRAVY): {len(high_potential)}\")\n",
    "    if len(high_potential) > 0:\n",
    "        print(\"\\nSample high-potential sequences:\")\n",
    "        sample_size = min(5, len(high_potential))\n",
    "        sample = high_potential.sample(sample_size) if len(high_potential) > sample_size else high_potential\n",
    "        \n",
    "        for idx, row in sample.iterrows():\n",
    "            print(f\"Sequence: {row['CDR3 sequence']}, GRAVY: {row['gravy']:.2f}, Receptor: {row['Receptor']}, Body Site: {row['BODY_SITE']}\")"
   ]
  },
  {
   "cell_type": "markdown",
   "id": "0a69845b-59d3-4486-83f5-fe490ce52270",
   "metadata": {},
   "source": [
    "# NEW"
   ]
  },
  {
   "cell_type": "code",
   "execution_count": null,
   "id": "b1c57bc4-b535-4bae-a084-d2d001fa4fbe",
   "metadata": {},
   "outputs": [],
   "source": [
    "print(\"Applying CDR3 sequence region division...\")\n",
    "df_with_regions = apply_division_to_dataframe(df_final, divide_cdr3_sequence_alternative)\n",
    "\n",
    "# Check division results\n",
    "valid_sequences = df_with_regions[df_with_regions['region_division_valid'] == True]\n",
    "print(f\"Successfully divided sequences: {len(valid_sequences)} ({len(valid_sequences)/len(df_with_regions)*100:.2f}%)\")\n",
    "print(\"\\nSequence division examples:\")\n",
    "sample_sequences = valid_sequences.sample(5)[['CDR3 sequence', 'n_term', 'middle', 'c_term']]\n",
    "print(sample_sequences)"
   ]
  },
  {
   "cell_type": "code",
   "execution_count": null,
   "id": "27ac3d91-f86c-4c4e-8d70-2dd6fca86fdd",
   "metadata": {
    "tags": []
   },
   "outputs": [],
   "source": [
    "print(\"\\nCalculating regional hydrophobicity and identifying patterns...\")\n",
    "df_with_hydro = calculate_regional_hydrophobicity(df_with_regions)\n",
    "\n",
    "# View distribution of hydrophobicity patterns\n",
    "print(\"\\nHydrophobicity pattern distribution:\")\n",
    "hydro_patterns = df_with_hydro['hydrophobicity_pattern'].value_counts()\n",
    "hydro_pattern_pct = hydro_patterns / hydro_patterns.sum() * 100\n",
    "for pattern, count in hydro_patterns.items():\n",
    "    print(f\"{pattern}: {count} sequences ({hydro_pattern_pct[pattern]:.2f}%)\")"
   ]
  },
  {
   "cell_type": "code",
   "execution_count": null,
   "id": "2fef3173-a506-44e1-bc17-4808fbef194a",
   "metadata": {
    "tags": []
   },
   "outputs": [],
   "source": [
    "\n",
    "print(\"\\nPlotting hydrophobicity pattern distribution...\")\n",
    "visualize_hydrophobicity_patterns(df_with_hydro)"
   ]
  },
  {
   "cell_type": "code",
   "execution_count": null,
   "id": "e175fe81-e035-4dd3-b9b1-320f086d483e",
   "metadata": {
    "tags": []
   },
   "outputs": [],
   "source": [
    "print(\"\\nAnalyzing BBB penetration potential features...\")\n",
    "analyze_hydrophobicity_patterns_for_bbb_penetration(df_with_hydro)"
   ]
  },
  {
   "cell_type": "code",
   "execution_count": null,
   "id": "fcf083a4-78be-46bf-bd95-af5ea8f359e0",
   "metadata": {
    "tags": []
   },
   "outputs": [],
   "source": [
    "print(\"\\nComparing brain and blood source sequence features...\")\n",
    "brain_sequences = df_with_hydro[df_with_hydro['BODY_SITE'] == 'Brain']\n",
    "blood_sequences = df_with_hydro[df_with_hydro['BODY_SITE'] == 'Blood']\n",
    "\n",
    "# Compare hydrophobicity pattern distributions\n",
    "brain_patterns = brain_sequences['hydrophobicity_pattern'].value_counts(normalize=True) * 100\n",
    "blood_patterns = blood_sequences['hydrophobicity_pattern'].value_counts(normalize=True) * 100\n",
    "\n",
    "print(\"Brain sequence hydrophobicity pattern distribution:\")\n",
    "for pattern in sorted(brain_patterns.index):\n",
    "    print(f\"{pattern}: {brain_patterns.get(pattern, 0):.2f}%\")\n",
    "\n",
    "print(\"\\nBlood sequence hydrophobicity pattern distribution:\")\n",
    "for pattern in sorted(blood_patterns.index):\n",
    "    print(f\"{pattern}: {blood_patterns.get(pattern, 0):.2f}%\")"
   ]
  },
  {
   "cell_type": "code",
   "execution_count": null,
   "id": "2012285a-f472-4c62-adac-f24b47045710",
   "metadata": {
    "tags": []
   },
   "outputs": [],
   "source": [
    "print(\"\\nKey feature comparison between brain and blood sequences:\")\n",
    "features_to_compare = ['gravy', 'n_term_hydrophobicity', 'middle_hydrophobicity', \n",
    "                       'c_term_hydrophobicity', 'has_hydrophobic_c_term', 'has_lif_motif']\n",
    "\n",
    "for feature in features_to_compare:\n",
    "    if feature in ['has_hydrophobic_c_term', 'has_lif_motif']:\n",
    "        # Handle boolean features\n",
    "        brain_value = brain_sequences[feature].mean() * 100\n",
    "        blood_value = blood_sequences[feature].mean() * 100\n",
    "        print(f\"{feature}: Brain {brain_value:.2f}%, Blood {blood_value:.2f}%, Difference {brain_value-blood_value:.2f}%\")\n",
    "    else:\n",
    "        # Handle numerical features\n",
    "        brain_value = brain_sequences[feature].mean()\n",
    "        blood_value = blood_sequences[feature].mean()\n",
    "        print(f\"{feature}: Brain {brain_value:.4f}, Blood {blood_value:.4f}, Difference {((brain_value-blood_value)/blood_value)*100:.2f}%\")\n"
   ]
  },
  {
   "cell_type": "code",
   "execution_count": null,
   "id": "0e588fbb-c488-4833-a193-21b5b9636237",
   "metadata": {
    "tags": []
   },
   "outputs": [],
   "source": [
    "brain_blood_samples = df_with_hydro[df_with_hydro['BODY_SITE'].isin(['Brain', 'Blood'])].copy()\n",
    "\n",
    "# Create the target variable\n",
    "brain_blood_samples['target'] = (brain_blood_samples['BODY_SITE'] == 'Brain').astype(int)\n",
    "\n",
    "# Display class distribution\n",
    "target_counts = brain_blood_samples['target'].value_counts()\n",
    "print(f\"Brain samples: {target_counts.get(1, 0)}\")\n",
    "print(f\"Blood samples: {target_counts.get(0, 0)}\")\n",
    "print(f\"Ratio: 1:{target_counts.get(0, 0)/target_counts.get(1, 0):.1f}\")"
   ]
  },
  {
   "cell_type": "code",
   "execution_count": null,
   "id": "4d694a61-0995-4650-854c-1384b1297b18",
   "metadata": {
    "tags": []
   },
   "outputs": [],
   "source": [
    "print(\"Selecting brain and blood samples...\")\n",
    "brain_blood_df = df_with_hydro[df_with_hydro['BODY_SITE'].isin(['Brain', 'Blood'])].copy()\n",
    "\n",
    "# 4. NOW create the ML features only on the filtered dataset\n",
    "print(\"Preparing machine learning feature set...\")\n",
    "# Create feature list\n",
    "ml_features = [\n",
    "    'length', 'gravy', 'instability_index', 'aromaticity',\n",
    "    'n_term_hydrophobicity', 'middle_hydrophobicity', 'c_term_hydrophobicity',\n",
    "    'fraction_positive', 'fraction_negative', 'ncpr', 'isoelectric_point',\n",
    "    'secondary_structure_helix', 'secondary_structure_sheet'\n",
    "]\n",
    "\n",
    "# Add pattern features (one-hot encoding) on the FILTERED dataset\n",
    "pattern_dummies = pd.get_dummies(brain_blood_df['hydrophobicity_pattern'], prefix='pattern')\n",
    "df_ml_ready = pd.concat([brain_blood_df[ml_features], pattern_dummies], axis=1)\n",
    "\n",
    "# Add boolean features\n",
    "bool_features = ['has_hydrophobic_c_term', 'has_lif_motif']\n",
    "for feature in bool_features:\n",
    "    df_ml_ready[feature] = brain_blood_df[feature].astype(int)\n",
    "\n",
    "# 5. Create target variable\n",
    "brain_blood_df['target'] = (brain_blood_df['BODY_SITE'] == 'Brain').astype(int)\n",
    "\n",
    "# Show target distribution\n",
    "target_counts = brain_blood_df['target'].value_counts()\n",
    "print(f\"Brain samples: {target_counts.get(1, 0)}\")\n",
    "print(f\"Blood samples: {target_counts.get(0, 0)}\")\n",
    "print(f\"Ratio: 1:{target_counts.get(0, 0)/target_counts.get(1, 0):.1f}\")\n",
    "\n",
    "# 6. Create X and y from the SAME dataframe\n",
    "X = df_ml_ready  # All the features we created\n",
    "y = brain_blood_df['target']  # The target from the same dataframe\n",
    "\n",
    "print(\"\\nFeature set and target variable prepared for ML model training!\")\n",
    "print(f\"X shape: {X.shape}, y shape: {y.shape}\")"
   ]
  },
  {
   "cell_type": "code",
   "execution_count": null,
   "id": "f322b1f7-bfda-4168-a43f-59218313673b",
   "metadata": {
    "tags": []
   },
   "outputs": [],
   "source": [
    "def undersample_majority(X, y, sampling_ratio=0.1):\n",
    "    \"\"\"\n",
    "    Manually undersample the majority class to achieve a desired ratio\n",
    "    \n",
    "    Parameters:\n",
    "    X: Features\n",
    "    y: Target variable\n",
    "    sampling_ratio: Desired minority:majority ratio\n",
    "    \n",
    "    Returns:\n",
    "    X_resampled, y_resampled\n",
    "    \"\"\"\n",
    "    # Indices of minority and majority classes\n",
    "    minority_indices = np.where(y == 1)[0]\n",
    "    majority_indices = np.where(y == 0)[0]\n",
    "    \n",
    "    # Calculate how many majority samples to keep\n",
    "    n_minority = len(minority_indices)\n",
    "    n_majority_to_keep = int(n_minority / sampling_ratio)\n",
    "    \n",
    "    # Ensure we don't try to sample more than available\n",
    "    n_majority_to_keep = min(n_majority_to_keep, len(majority_indices))\n",
    "    \n",
    "    # Randomly sample from majority class\n",
    "    np.random.seed(42)\n",
    "    majority_indices_to_keep = np.random.choice(\n",
    "        majority_indices, size=n_majority_to_keep, replace=False\n",
    "    )\n",
    "    \n",
    "    # Combine indices\n",
    "    indices_to_keep = np.concatenate([minority_indices, majority_indices_to_keep])\n",
    "    \n",
    "    return X.iloc[indices_to_keep], y.iloc[indices_to_keep]\n",
    "\n",
    "# Split into training and test sets\n",
    "X_train, X_test, y_train, y_test = train_test_split(\n",
    "    X, y, test_size=0.25, random_state=42, stratify=y\n",
    ")\n",
    "\n",
    "# Apply manual undersampling to training data\n",
    "X_train_resampled, y_train_resampled = undersample_majority(X_train, y_train, sampling_ratio=0.3)\n",
    "print(f\"After undersampling - Class 1: {sum(y_train_resampled==1)}, Class 0: {sum(y_train_resampled==0)}\")\n",
    "\n",
    "# Create a pipeline with scaling and classifier\n",
    "pipeline = Pipeline([\n",
    "    ('scaler', StandardScaler()),\n",
    "    ('classifier', RandomForestClassifier(\n",
    "        n_estimators=200,\n",
    "        max_depth=10,\n",
    "        min_samples_split=5,\n",
    "        class_weight='balanced',\n",
    "        random_state=42\n",
    "    ))\n",
    "])\n",
    "\n",
    "# Train model\n",
    "print(\"Training model...\")\n",
    "pipeline.fit(X_train_resampled, y_train_resampled)\n",
    "\n",
    "# Evaluate on test set\n",
    "y_pred = pipeline.predict(X_test)\n",
    "y_prob = pipeline.predict_proba(X_test)[:, 1]\n",
    "\n",
    "print(\"\\nClassification Report:\")\n",
    "print(classification_report(y_test, y_pred))\n",
    "\n",
    "print(\"\\nConfusion Matrix:\")\n",
    "print(confusion_matrix(y_test, y_pred))\n",
    "\n",
    "print(f\"ROC-AUC Score: {roc_auc_score(y_test, y_prob):.4f}\")\n",
    "\n",
    "# Feature importance analysis\n",
    "importances = pipeline.named_steps['classifier'].feature_importances_\n",
    "indices = np.argsort(importances)[::-1]\n",
    "\n",
    "print(\"\\nTop 20 Feature Ranking:\")\n",
    "for f in range(min(20, X.shape[1])):\n",
    "    print(f\"{f+1}. {X.columns[indices[f]]} ({importances[indices[f]]:.4f})\")\n",
    "\n",
    "# Plot feature importance\n",
    "plt.figure(figsize=(10, 8))\n",
    "plt.title(\"Feature Importances for BBB Penetration\")\n",
    "plt.barh(range(min(20, X.shape[1])), importances[indices][:20], align=\"center\")\n",
    "plt.yticks(range(min(20, X.shape[1])), [X.columns[i] for i in indices[:20]])\n",
    "plt.gca().invert_yaxis()\n",
    "plt.xlabel(\"Relative Importance\")\n",
    "plt.tight_layout()\n",
    "plt.savefig('feature_importance.png', dpi=300)\n",
    "plt.show()\n",
    "\n",
    "# Plot precision-recall curve (better for imbalanced data than ROC)\n",
    "from sklearn.metrics import precision_recall_curve, average_precision_score\n",
    "\n",
    "precision, recall, _ = precision_recall_curve(y_test, y_prob)\n",
    "avg_precision = average_precision_score(y_test, y_prob)\n",
    "\n",
    "plt.figure(figsize=(8, 6))\n",
    "plt.step(recall, precision, where='post')\n",
    "plt.xlabel('Recall')\n",
    "plt.ylabel('Precision')\n",
    "plt.ylim([0.0, 1.05])\n",
    "plt.xlim([0.0, 1.0])\n",
    "plt.title(f'Precision-Recall Curve: AP={avg_precision:.3f}')\n",
    "plt.grid(True)\n",
    "plt.savefig('precision_recall_curve.png', dpi=300)\n",
    "plt.show()\n",
    "\n",
    "# Identify high-potential sequences\n",
    "# Find optimal threshold based on precision-recall curve\n",
    "from sklearn.metrics import f1_score\n",
    "thresholds = np.linspace(0, 1, 100)\n",
    "f1_scores = []\n",
    "\n",
    "for threshold in thresholds:\n",
    "    y_pred_threshold = (y_prob >= threshold).astype(int)\n",
    "    f1 = f1_score(y_test, y_pred_threshold)\n",
    "    f1_scores.append(f1)\n",
    "\n",
    "optimal_threshold = thresholds[np.argmax(f1_scores)]\n",
    "print(f\"Optimal threshold for classification: {optimal_threshold:.3f}\")\n",
    "\n",
    "# Apply model to all sequences\n",
    "all_probs = pipeline.predict_proba(X)[:, 1]\n",
    "brain_blood_df['bbb_score'] = all_probs\n",
    "\n",
    "# Identify high BBB potential sequences\n",
    "high_bbb_potential = brain_blood_df[brain_blood_df['bbb_score'] >= optimal_threshold].copy()\n",
    "print(f\"\\nIdentified {len(high_bbb_potential)} sequences with high BBB penetration potential\")\n",
    "print(f\"Of these, {sum(high_bbb_potential['BODY_SITE'] == 'Brain')} are from brain samples\")\n",
    "\n",
    "# Show sample of high-potential sequences\n",
    "print(\"\\nSample of high BBB penetration potential sequences:\")\n",
    "cols_to_show = ['CDR3 sequence', 'BODY_SITE', 'Receptor', 'hydrophobicity_pattern', \n",
    "                'gravy', 'has_hydrophobic_c_term', 'bbb_score']\n",
    "print(high_bbb_potential[cols_to_show].sample(min(5, len(high_bbb_potential))))\n",
    "\n",
    "# Save results\n",
    "high_bbb_potential.to_csv('high_bbb_potential_sequences.csv', index=False)\n",
    "print(\"Results saved to 'high_bbb_potential_sequences.csv'\")"
   ]
  },
  {
   "cell_type": "code",
   "execution_count": null,
   "id": "84bb7770-5596-40a6-a525-806cc9deea92",
   "metadata": {},
   "outputs": [],
   "source": []
  }
 ],
 "metadata": {
  "kernelspec": {
   "display_name": "Tensorflow-2.18",
   "language": "python",
   "name": "tensorflow-2.18"
  },
  "language_info": {
   "codemirror_mode": {
    "name": "ipython",
    "version": 3
   },
   "file_extension": ".py",
   "mimetype": "text/x-python",
   "name": "python",
   "nbconvert_exporter": "python",
   "pygments_lexer": "ipython3",
   "version": "3.11.11"
  }
 },
 "nbformat": 4,
 "nbformat_minor": 5
}
